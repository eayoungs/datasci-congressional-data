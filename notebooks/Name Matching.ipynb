{
 "cells": [
  {
   "cell_type": "code",
   "execution_count": null,
   "metadata": {
    "collapsed": true
   },
   "outputs": [],
   "source": [
    "import os\n",
    "import sys\n",
    "\n",
    "import pandas as pd\n",
    "pd.options.display.max_columns = 999\n",
    "from pyjarowinkler import distance\n",
    "\n",
    "import sqlalchemy as sqla\n",
    "from sqlalchemy import create_engine\n",
    "\n",
    "DB_URI = os.getenv('CD_DWH')\n",
    "engine = create_engine(DB_URI)"
   ]
  },
  {
   "cell_type": "markdown",
   "metadata": {},
   "source": [
    "Jaro-Winkler distance metric was developed for name matching for the US census. Listed in environment.yaml for conda environment or `pip install pyjarowinkler`"
   ]
  },
  {
   "cell_type": "markdown",
   "metadata": {},
   "source": [
    "The below SQL query extracts first name and last name from each of the name columns in the two tables.\n",
    "\n",
    "We wish to calculate the Jaro-Winkler distance for each of the names. \n",
    "\n",
    "We could limit the number of comparisons by restricting to those that have the same initials with\n",
    "\n",
    "`...\n",
    "from candidate_donations D join election_results E\n",
    "on substring(D.FirstName,1,1) = substring(E.FirstName,1,1)\n",
    "and substring(D.LastName,1,1) = substring(E.LastName,1,1)`"
   ]
  },
  {
   "cell_type": "code",
   "execution_count": null,
   "metadata": {
    "collapsed": false
   },
   "outputs": [],
   "source": [
    "QUERY = \"\"\"\n",
    "with candidate_donations as\n",
    "(\n",
    "select\n",
    "    lower(trim(regexp_replace(split_part(recipient_candidate_name, ', ', 2),'\\s.(\\.|$)',''))) as FirstName,\n",
    "    lower(trim(split_part(recipient_candidate_name, ', ', 1))) as LastName,\n",
    "    recipient_candidate_name as candidate_name,\n",
    "    sum(transaction_amount) as total_transaction\n",
    "from trg_analytics.candidate_contributions\n",
    "where election_cycle = '2015'\n",
    "group by recipient_candidate_name\n",
    "),\n",
    "\n",
    "election_results as\n",
    "(\n",
    "select *,\n",
    "    lower(trim(regexp_replace(substring(candidate_name, 0, position(LastName in lower(candidate_name))),'\\s.(\\.|$)',''))) as FirstName from \n",
    "    (select contest_name, candidate_name, vote_total,\n",
    "        rank() over (partition by contest_name order by vote_total desc) = 1 as is_winner,\n",
    "        lower(trim(regexp_replace((regexp_matches(candidate_name,'[^ ]*$'))[1],'\\*',''))) as LastName \n",
    "        from data_ingest.casos__california_candidate_statewide_election_results\n",
    "        where county_name = 'State Totals' and contest_name <> 'President' and contest_name <> 'US Senate - 1') A\n",
    ")\n",
    "\n",
    "select\n",
    "  E.FirstName as election_fn, E.LastName as election_ln, E.candidate_name as election_name, E.vote_total, E.is_winner,\n",
    "  D.FirstName as donation_fn, D.LastName as donation_ln, D.candidate_name, D.total_transaction\n",
    "from candidate_donations D, election_results E\n",
    "\"\"\"\n",
    "with engine.begin() as conn:\n",
    "    results = pd.read_sql(QUERY, conn)\n",
    "results.head()"
   ]
  },
  {
   "cell_type": "code",
   "execution_count": null,
   "metadata": {
    "collapsed": false
   },
   "outputs": [],
   "source": [
    "results = results.dropna()"
   ]
  },
  {
   "cell_type": "code",
   "execution_count": null,
   "metadata": {
    "collapsed": false
   },
   "outputs": [],
   "source": [
    "results.count()"
   ]
  },
  {
   "cell_type": "code",
   "execution_count": null,
   "metadata": {
    "collapsed": true
   },
   "outputs": [],
   "source": [
    "import numpy as np"
   ]
  },
  {
   "cell_type": "code",
   "execution_count": null,
   "metadata": {
    "collapsed": false
   },
   "outputs": [],
   "source": [
    "results['jwscore_fn'] = np.vectorize(distance.get_jaro_distance)(results.election_fn, results.donation_fn)\n",
    "results['jwscore_ln'] = np.vectorize(distance.get_jaro_distance)(results.election_ln, results.donation_ln)"
   ]
  },
  {
   "cell_type": "code",
   "execution_count": null,
   "metadata": {
    "collapsed": false,
    "scrolled": true
   },
   "outputs": [],
   "source": [
    "results.head(5)"
   ]
  },
  {
   "cell_type": "code",
   "execution_count": null,
   "metadata": {
    "collapsed": false,
    "scrolled": true
   },
   "outputs": [],
   "source": [
    "results[results['jwscore_fn'] > 0.9]"
   ]
  },
  {
   "cell_type": "markdown",
   "metadata": {},
   "source": [
    "Though more investigation can be conducted, let's save those that have a score above 0.9 for both first name and last name"
   ]
  },
  {
   "cell_type": "code",
   "execution_count": null,
   "metadata": {
    "collapsed": false
   },
   "outputs": [],
   "source": [
    "match_90 = results[(results['jwscore_fn'] >= 0.9) & (results['jwscore_ln'] >=0.9)]"
   ]
  },
  {
   "cell_type": "markdown",
   "metadata": {},
   "source": [
    "Then we can explore which non-perfect matches we are included and evaluate if we agree with them"
   ]
  },
  {
   "cell_type": "code",
   "execution_count": null,
   "metadata": {
    "collapsed": false,
    "scrolled": true
   },
   "outputs": [],
   "source": [
    "match_90[(match_90['jwscore_fn'] < 1) | (match_90['jwscore_ln'] < 1)].head(20)"
   ]
  },
  {
   "cell_type": "markdown",
   "metadata": {},
   "source": [
    "This list highlights some successes with these thresholds but also highlights some areas that could be investigated further (e.g. names in brackets or quotes)"
   ]
  },
  {
   "cell_type": "code",
   "execution_count": null,
   "metadata": {
    "collapsed": false
   },
   "outputs": [],
   "source": [
    "len(match_90)"
   ]
  },
  {
   "cell_type": "code",
   "execution_count": null,
   "metadata": {
    "collapsed": false
   },
   "outputs": [],
   "source": [
    "len(results[(results['jwscore_fn'] > 0.95) & (results['jwscore_ln'] > 0.95)])"
   ]
  },
  {
   "cell_type": "code",
   "execution_count": null,
   "metadata": {
    "collapsed": false
   },
   "outputs": [],
   "source": [
    "len(results[(results['jwscore_fn'] == 1) & (results['jwscore_ln'] == 1)])"
   ]
  },
  {
   "cell_type": "code",
   "execution_count": null,
   "metadata": {
    "collapsed": false
   },
   "outputs": [],
   "source": [
    "len(results[(results['jwscore_fn'] > 0.85) & (results['jwscore_ln'] > 0.85)])"
   ]
  },
  {
   "cell_type": "code",
   "execution_count": null,
   "metadata": {
    "collapsed": false
   },
   "outputs": [],
   "source": [
    "match_85 = results[(results['jwscore_fn'] > 0.85) & (results['jwscore_ln'] > 0.85)]"
   ]
  },
  {
   "cell_type": "code",
   "execution_count": null,
   "metadata": {
    "collapsed": false,
    "scrolled": true
   },
   "outputs": [],
   "source": [
    "match_85[(match_85['jwscore_fn'] < 1) | (match_85['jwscore_ln'] < 1)].head(20)"
   ]
  },
  {
   "cell_type": "code",
   "execution_count": null,
   "metadata": {
    "collapsed": true
   },
   "outputs": [],
   "source": [
    "match_85_90 = results[(results['jwscore_fn'] > 0.85) & (results['jwscore_ln'] > 0.9)]"
   ]
  },
  {
   "cell_type": "code",
   "execution_count": null,
   "metadata": {
    "collapsed": false,
    "scrolled": true
   },
   "outputs": [],
   "source": [
    "match_85_90[(match_85_90['jwscore_fn'] < 1) | (match_85_90['jwscore_ln'] < 1)].head(20)"
   ]
  },
  {
   "cell_type": "code",
   "execution_count": null,
   "metadata": {
    "collapsed": false
   },
   "outputs": [],
   "source": [
    "len(match_85_90)"
   ]
  }
 ],
 "metadata": {
  "kernelspec": {
   "display_name": "Python 3",
   "language": "python",
   "name": "python3"
  },
  "language_info": {
   "codemirror_mode": {
    "name": "ipython",
    "version": 3
   },
   "file_extension": ".py",
   "mimetype": "text/x-python",
   "name": "python",
   "nbconvert_exporter": "python",
   "pygments_lexer": "ipython3",
   "version": "3.6.2"
  }
 },
 "nbformat": 4,
 "nbformat_minor": 2
}
